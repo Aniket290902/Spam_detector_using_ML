{
 "cells": [
  {
   "cell_type": "code",
   "execution_count": 3,
   "id": "cd367cc0-7178-4650-8548-7d839e6c7d38",
   "metadata": {},
   "outputs": [],
   "source": [
    "import numpy as np\n",
    "import pandas as pd\n",
    "from sklearn.model_selection import train_test_split\n",
    "from sklearn.linear_model import LogisticRegression\n",
    "from sklearn.feature_extraction.text import TfidfVectorizer #convert text data to numeric#\n",
    "from sklearn.metrics import accuracy_score\n",
    "import matplotlib.pyplot as plt"
   ]
  },
  {
   "cell_type": "code",
   "execution_count": 4,
   "id": "57e773b7-aeb8-4c0f-9490-3e5663e49ce8",
   "metadata": {},
   "outputs": [
    {
     "name": "stdout",
     "output_type": "stream",
     "text": [
      "     Category                                            Message\n",
      "0         ham  Go until jurong point, crazy.. Available only ...\n",
      "1         ham                      Ok lar... Joking wif u oni...\n",
      "2        spam  Free entry in 2 a wkly comp to win FA Cup fina...\n",
      "3         ham  U dun say so early hor... U c already then say...\n",
      "4         ham  Nah I don't think he goes to usf, he lives aro...\n",
      "...       ...                                                ...\n",
      "5567     spam  This is the 2nd time we have tried 2 contact u...\n",
      "5568      ham               Will ü b going to esplanade fr home?\n",
      "5569      ham  Pity, * was in mood for that. So...any other s...\n",
      "5570      ham  The guy did some bitching but I acted like i'd...\n",
      "5571      ham                         Rofl. Its true to its name\n",
      "\n",
      "[5572 rows x 2 columns]\n"
     ]
    },
    {
     "data": {
      "text/plain": [
       "Category    0\n",
       "Message     0\n",
       "dtype: int64"
      ]
     },
     "execution_count": 4,
     "metadata": {},
     "output_type": "execute_result"
    }
   ],
   "source": [
    "#Data collection#\n",
    "raw_mail_data=pd.read_csv('C:/Users/anike/OneDrive/Desktop/mail_data.csv')\n",
    "\n",
    "print(raw_mail_data)\n",
    "\n",
    "#Checking for Null values\n",
    "raw_mail_data.isnull().sum()"
   ]
  },
  {
   "cell_type": "code",
   "execution_count": 5,
   "id": "4ed96107-161c-41c8-9176-61e1521a1457",
   "metadata": {},
   "outputs": [
    {
     "data": {
      "text/plain": [
       "(5572, 2)"
      ]
     },
     "execution_count": 5,
     "metadata": {},
     "output_type": "execute_result"
    }
   ],
   "source": [
    "#Replace Null values with null string\n",
    "mail_data=raw_mail_data.where((pd.notnull(raw_mail_data)),'')\n",
    "\n",
    "mail_data.head()\n",
    "mail_data.shape #gives number of rows, here 5572 #"
   ]
  },
  {
   "cell_type": "code",
   "execution_count": 9,
   "id": "059ee676-50b3-47d9-9a60-38cdc49e7e6e",
   "metadata": {},
   "outputs": [
    {
     "data": {
      "text/plain": [
       "<Axes: xlabel='Category', ylabel='count'>"
      ]
     },
     "execution_count": 9,
     "metadata": {},
     "output_type": "execute_result"
    },
    {
     "data": {
      "image/png": "[encoded data removed]",
      "text/plain": [
       "<Figure size 640x480 with 1 Axes>"
      ]
     },
     "metadata": {},
     "output_type": "display_data"
    }
   ],
   "source": [
    "import seaborn as sns\n",
    "sns.countplot(x='Category',data=mail_data)"
   ]
  },
  {
   "cell_type": "markdown",
   "id": "09b24c85-aee1-4735-879b-8b7d5d330cbf",
   "metadata": {},
   "source": [
    "# Oversampling to make the dataset Balanced #"
   ]
  },
  {
   "cell_type": "code",
   "execution_count": 12,
   "id": "c3a0508e-0dca-43e6-8a0f-c167a9332040",
   "metadata": {},
   "outputs": [],
   "source": [
    "from sklearn.utils import resample\n",
    "\n",
    "# Define the maximum count among all categories\n",
    "max_count = mail_data['Category'].value_counts().max()\n",
    "\n",
    "# Resample each category to match the maximum count\n",
    "balanced_data = []\n",
    "for category in mail_data['Category'].unique():\n",
    "    category_data = mail_data[mail_data['Category'] == category]\n",
    "    if len(category_data) < max_count:\n",
    "        # Perform oversampling for categories with fewer samples\n",
    "        balanced_category_data = resample(category_data, replace=True, n_samples=max_count, random_state=42)\n",
    "    else:\n",
    "        # Perform undersampling for categories with more samples\n",
    "        balanced_category_data = resample(category_data, replace=False, n_samples=max_count, random_state=42)\n",
    "    balanced_data.append(balanced_category_data)\n",
    "\n",
    "# Concatenate the balanced data for all categories\n",
    "mail_data = pd.concat(balanced_data)"
   ]
  },
  {
   "cell_type": "code",
   "execution_count": 14,
   "id": "4da7e150-2fbc-4fb4-83a8-c30dd5b6cffc",
   "metadata": {},
   "outputs": [
    {
     "data": {
      "text/plain": [
       "<Axes: xlabel='Category', ylabel='count'>"
      ]
     },
     "execution_count": 14,
     "metadata": {},
     "output_type": "execute_result"
    },
    {
     "data": {
      "image/png": "[encoded data removed]",
      "text/plain": [
       "<Figure size 640x480 with 1 Axes>"
      ]
     },
     "metadata": {},
     "output_type": "display_data"
    }
   ],
   "source": [
    "import seaborn as sns\n",
    "sns.countplot(x='Category',data=mail_data)"
   ]
  },
  {
   "cell_type": "code",
   "execution_count": 16,
   "id": "89b9ffeb-7c24-4955-9729-73d0188ca4f4",
   "metadata": {},
   "outputs": [
    {
     "data": {
      "text/html": [
       "<div>\n",
       "<style scoped>\n",
       "    .dataframe tbody tr th:only-of-type {\n",
       "        vertical-align: middle;\n",
       "    }\n",
       "\n",
       "    .dataframe tbody tr th {\n",
       "        vertical-align: top;\n",
       "    }\n",
       "\n",
       "    .dataframe thead th {\n",
       "        text-align: right;\n",
       "    }\n",
       "</style>\n",
       "<table border=\"1\" class=\"dataframe\">\n",
       "  <thead>\n",
       "    <tr style=\"text-align: right;\">\n",
       "      <th></th>\n",
       "      <th>Category</th>\n",
       "      <th>Message</th>\n",
       "    </tr>\n",
       "  </thead>\n",
       "  <tbody>\n",
       "    <tr>\n",
       "      <th>3714</th>\n",
       "      <td>0</td>\n",
       "      <td>If i not meeting ü all rite then i'll go home ...</td>\n",
       "    </tr>\n",
       "    <tr>\n",
       "      <th>1311</th>\n",
       "      <td>0</td>\n",
       "      <td>I.ll always be there, even if its just in spir...</td>\n",
       "    </tr>\n",
       "    <tr>\n",
       "      <th>548</th>\n",
       "      <td>0</td>\n",
       "      <td>Sorry that took so long, omw now</td>\n",
       "    </tr>\n",
       "    <tr>\n",
       "      <th>1324</th>\n",
       "      <td>0</td>\n",
       "      <td>I thk 50 shd be ok he said plus minus 10.. Did...</td>\n",
       "    </tr>\n",
       "    <tr>\n",
       "      <th>3184</th>\n",
       "      <td>0</td>\n",
       "      <td>Dunno i juz askin cos i got a card got 20% off...</td>\n",
       "    </tr>\n",
       "  </tbody>\n",
       "</table>\n",
       "</div>"
      ],
      "text/plain": [
       "      Category                                            Message\n",
       "3714         0  If i not meeting ü all rite then i'll go home ...\n",
       "1311         0  I.ll always be there, even if its just in spir...\n",
       "548          0                   Sorry that took so long, omw now\n",
       "1324         0  I thk 50 shd be ok he said plus minus 10.. Did...\n",
       "3184         0  Dunno i juz askin cos i got a card got 20% off..."
      ]
     },
     "execution_count": 16,
     "metadata": {},
     "output_type": "execute_result"
    }
   ],
   "source": [
    "#Now change Ham and Spam string to numeric 0 and 1,using LabelEncoder from sklearn,spam=0,ham=1#\n",
    "from sklearn.preprocessing import LabelEncoder\n",
    "encoder=LabelEncoder()\n",
    "encoder.fit(mail_data['Category'])\n",
    "Category=encoder.transform(mail_data['Category'])\n",
    "mail_data['Category']=Category\n",
    "mail_data.head()"
   ]
  },
  {
   "cell_type": "code",
   "execution_count": 18,
   "id": "b8c4571b-17fb-4efb-a061-ae8553986f18",
   "metadata": {},
   "outputs": [
    {
     "name": "stdout",
     "output_type": "stream",
     "text": [
      "3714    If i not meeting ü all rite then i'll go home ...\n",
      "1311    I.ll always be there, even if its just in spir...\n",
      "548                      Sorry that took so long, omw now\n",
      "1324    I thk 50 shd be ok he said plus minus 10.. Did...\n",
      "3184    Dunno i juz askin cos i got a card got 20% off...\n",
      "                              ...                        \n",
      "4248    Text PASS to 69669 to collect your polyphonic ...\n",
      "3675    You have won a Nokia 7250i. This is what you g...\n",
      "3620    8007 25p 4 Alfie Moon's Children in Need song ...\n",
      "3501    Dorothy@kiefer.com (Bank of Granite issues Str...\n",
      "4237    U can WIN £100 of Music Gift Vouchers every we...\n",
      "Name: Message, Length: 9650, dtype: object\n",
      "3714    0\n",
      "1311    0\n",
      "548     0\n",
      "1324    0\n",
      "3184    0\n",
      "       ..\n",
      "4248    1\n",
      "3675    1\n",
      "3620    1\n",
      "3501    1\n",
      "4237    1\n",
      "Name: Category, Length: 9650, dtype: int32\n"
     ]
    }
   ],
   "source": [
    "#Segregating features and target#\n",
    "X=mail_data['Message']\n",
    "Y=mail_data['Category']\n",
    "\n",
    "print(X)\n",
    "print(Y)\n"
   ]
  },
  {
   "cell_type": "code",
   "execution_count": 20,
   "id": "a0001d2c-0553-4445-9325-c823d3a5c76b",
   "metadata": {},
   "outputs": [
    {
     "name": "stdout",
     "output_type": "stream",
     "text": [
      "(9650,)\n",
      "(7720,)\n",
      "(1930,)\n"
     ]
    }
   ],
   "source": [
    "#Seggregating Training and testing data\n",
    "X_train,X_test,Y_train,Y_test=train_test_split(X,Y,test_size=0.2,random_state=3)\n",
    "\n",
    "print(X.shape)\n",
    "print(X_train.shape)\n",
    "print(X_test.shape)"
   ]
  },
  {
   "cell_type": "markdown",
   "id": "81e7de72-a2be-4fa4-abd3-a693c6198a07",
   "metadata": {},
   "source": [
    "# Feature Extraction : Text to numeric #"
   ]
  },
  {
   "cell_type": "code",
   "execution_count": 23,
   "id": "e0b40860-5551-4227-967a-408b1747ec04",
   "metadata": {},
   "outputs": [
    {
     "name": "stdout",
     "output_type": "stream",
     "text": [
      "  (0, 7430)\t0.2730785477088975\n",
      "  (0, 7226)\t0.2535455281094931\n",
      "  (0, 7094)\t0.16184679738801236\n",
      "  (0, 6995)\t0.15903125109535068\n",
      "  (0, 4636)\t0.2649437846603834\n",
      "  (0, 3274)\t0.21144643577172506\n",
      "  (0, 2995)\t0.15255169126121537\n",
      "  (0, 2645)\t0.2649437846603834\n",
      "  (0, 2475)\t0.2298709765915816\n",
      "  (0, 2019)\t0.2903567113548037\n",
      "  (0, 1746)\t0.3173824965194736\n",
      "  (0, 1222)\t0.22635535036122495\n",
      "  (0, 768)\t0.28522614043057976\n",
      "  (0, 595)\t0.22043179486626982\n",
      "  (0, 324)\t0.3597006294761272\n",
      "  (0, 291)\t0.2298709765915816\n",
      "  (1, 7136)\t0.26090668788757654\n",
      "  (1, 7097)\t0.2136887513351646\n",
      "  (1, 5364)\t0.19986489327285512\n",
      "  (1, 4824)\t0.23534062335491282\n",
      "  (1, 4527)\t0.1877309314675012\n",
      "  (1, 4116)\t0.24131738583015447\n",
      "  (1, 3998)\t0.2786379971905302\n",
      "  (1, 3274)\t0.22147091900688992\n",
      "  (1, 1870)\t0.1837449411563404\n",
      "  :\t:\n",
      "  (7717, 643)\t0.26100221927141903\n",
      "  (7718, 7278)\t0.42626857796630174\n",
      "  (7718, 6811)\t0.4350936125926346\n",
      "  (7718, 1959)\t0.46013567784313597\n",
      "  (7718, 956)\t0.6459596006682733\n",
      "  (7719, 7232)\t0.2509804814542243\n",
      "  (7719, 7094)\t0.25203532170925247\n",
      "  (7719, 6658)\t0.26188804899202406\n",
      "  (7719, 5948)\t0.14331998290149323\n",
      "  (7719, 5278)\t0.20015023598446066\n",
      "  (7719, 5203)\t0.1798026839281531\n",
      "  (7719, 4597)\t0.15687737842021068\n",
      "  (7719, 4384)\t0.23384330560836236\n",
      "  (7719, 2169)\t0.22336906111534854\n",
      "  (7719, 1943)\t0.19190287710385032\n",
      "  (7719, 1743)\t0.23841695843469107\n",
      "  (7719, 1724)\t0.3080866066080334\n",
      "  (7719, 1507)\t0.17818038925375182\n",
      "  (7719, 1263)\t0.22336906111534854\n",
      "  (7719, 746)\t0.25843882184221956\n",
      "  (7719, 595)\t0.1716332952850361\n",
      "  (7719, 343)\t0.1522985813901258\n",
      "  (7719, 332)\t0.26188804899202406\n",
      "  (7719, 309)\t0.26188804899202406\n",
      "  (7719, 152)\t0.23652079564858866\n"
     ]
    }
   ],
   "source": [
    "#convert text mssg to numerical value,   Feature Extraction     #\n",
    "\n",
    "#transform text data to feature vectors(numerical val),to feed our logistic regression model#\n",
    "\n",
    "#go through all words ,then recognizes repeated words and tries to find some pattern and gives some score based on freq of occurence of words# \n",
    "#if a word is repeated more times it will give that a score, if a word is repeated less it will give it a different score#\n",
    "#min_df=1,if a word is occuring less than or equal to 1 then ignore,only consider word that occurs more than once#\n",
    "#stopwords would ignore is,the,in etc that are meaning less but appear multiple times#\n",
    "\n",
    "feature_extraction=TfidfVectorizer(min_df = 1 ,stop_words='english' , lowercase=True)\n",
    "feature_extraction.fit(X_train)\n",
    "X_train_features=feature_extraction.transform(X_train)\n",
    "X_test_features=feature_extraction.transform(X_test)\n",
    "\n",
    "#convert Y_train and Y_test values as integers#\n",
    "\n",
    "Y_train=Y_train.astype('int')\n",
    "Y_test=Y_test.astype('int')\n",
    "\n",
    "print(X_train_features)"
   ]
  },
  {
   "cell_type": "markdown",
   "id": "52670ad4-3c11-4594-9b5b-9e27c7e67414",
   "metadata": {},
   "source": [
    "# Model Training #"
   ]
  },
  {
   "cell_type": "code",
   "execution_count": 26,
   "id": "6279839b-9f68-4da0-97e0-fbdd4b0c9f70",
   "metadata": {},
   "outputs": [
    {
     "data": {
      "text/html": [
       "<style>#sk-container-id-1 {color: black;}#sk-container-id-1 pre{padding: 0;}#sk-container-id-1 div.sk-toggleable {background-color: white;}#sk-container-id-1 label.sk-toggleable__label {cursor: pointer;display: block;width: 100%;margin-bottom: 0;padding: 0.3em;box-sizing: border-box;text-align: center;}#sk-container-id-1 label.sk-toggleable__label-arrow:before {content: \"▸\";float: left;margin-right: 0.25em;color: #696969;}#sk-container-id-1 label.sk-toggleable__label-arrow:hover:before {color: black;}#sk-container-id-1 div.sk-estimator:hover label.sk-toggleable__label-arrow:before {color: black;}#sk-container-id-1 div.sk-toggleable__content {max-height: 0;max-width: 0;overflow: hidden;text-align: left;background-color: #f0f8ff;}#sk-container-id-1 div.sk-toggleable__content pre {margin: 0.2em;color: black;border-radius: 0.25em;background-color: #f0f8ff;}#sk-container-id-1 input.sk-toggleable__control:checked~div.sk-toggleable__content {max-height: 200px;max-width: 100%;overflow: auto;}#sk-container-id-1 input.sk-toggleable__control:checked~label.sk-toggleable__label-arrow:before {content: \"▾\";}#sk-container-id-1 div.sk-estimator input.sk-toggleable__control:checked~label.sk-toggleable__label {background-color: #d4ebff;}#sk-container-id-1 div.sk-label input.sk-toggleable__control:checked~label.sk-toggleable__label {background-color: #d4ebff;}#sk-container-id-1 input.sk-hidden--visually {border: 0;clip: rect(1px 1px 1px 1px);clip: rect(1px, 1px, 1px, 1px);height: 1px;margin: -1px;overflow: hidden;padding: 0;position: absolute;width: 1px;}#sk-container-id-1 div.sk-estimator {font-family: monospace;background-color: #f0f8ff;border: 1px dotted black;border-radius: 0.25em;box-sizing: border-box;margin-bottom: 0.5em;}#sk-container-id-1 div.sk-estimator:hover {background-color: #d4ebff;}#sk-container-id-1 div.sk-parallel-item::after {content: \"\";width: 100%;border-bottom: 1px solid gray;flex-grow: 1;}#sk-container-id-1 div.sk-label:hover label.sk-toggleable__label {background-color: #d4ebff;}#sk-container-id-1 div.sk-serial::before {content: \"\";position: absolute;border-left: 1px solid gray;box-sizing: border-box;top: 0;bottom: 0;left: 50%;z-index: 0;}#sk-container-id-1 div.sk-serial {display: flex;flex-direction: column;align-items: center;background-color: white;padding-right: 0.2em;padding-left: 0.2em;position: relative;}#sk-container-id-1 div.sk-item {position: relative;z-index: 1;}#sk-container-id-1 div.sk-parallel {display: flex;align-items: stretch;justify-content: center;background-color: white;position: relative;}#sk-container-id-1 div.sk-item::before, #sk-container-id-1 div.sk-parallel-item::before {content: \"\";position: absolute;border-left: 1px solid gray;box-sizing: border-box;top: 0;bottom: 0;left: 50%;z-index: -1;}#sk-container-id-1 div.sk-parallel-item {display: flex;flex-direction: column;z-index: 1;position: relative;background-color: white;}#sk-container-id-1 div.sk-parallel-item:first-child::after {align-self: flex-end;width: 50%;}#sk-container-id-1 div.sk-parallel-item:last-child::after {align-self: flex-start;width: 50%;}#sk-container-id-1 div.sk-parallel-item:only-child::after {width: 0;}#sk-container-id-1 div.sk-dashed-wrapped {border: 1px dashed gray;margin: 0 0.4em 0.5em 0.4em;box-sizing: border-box;padding-bottom: 0.4em;background-color: white;}#sk-container-id-1 div.sk-label label {font-family: monospace;font-weight: bold;display: inline-block;line-height: 1.2em;}#sk-container-id-1 div.sk-label-container {text-align: center;}#sk-container-id-1 div.sk-container {/* jupyter's `normalize.less` sets `[hidden] { display: none; }` but bootstrap.min.css set `[hidden] { display: none !important; }` so we also need the `!important` here to be able to override the default hidden behavior on the sphinx rendered scikit-learn.org. See: https://github.com/scikit-learn/scikit-learn/issues/21755 */display: inline-block !important;position: relative;}#sk-container-id-1 div.sk-text-repr-fallback {display: none;}</style><div id=\"sk-container-id-1\" class=\"sk-top-container\"><div class=\"sk-text-repr-fallback\"><pre>LogisticRegression()</pre><b>In a Jupyter environment, please rerun this cell to show the HTML representation or trust the notebook. <br />On GitHub, the HTML representation is unable to render, please try loading this page with nbviewer.org.</b></div><div class=\"sk-container\" hidden><div class=\"sk-item\"><div class=\"sk-estimator sk-toggleable\"><input class=\"sk-toggleable__control sk-hidden--visually\" id=\"sk-estimator-id-1\" type=\"checkbox\" checked><label for=\"sk-estimator-id-1\" class=\"sk-toggleable__label sk-toggleable__label-arrow\">LogisticRegression</label><div class=\"sk-toggleable__content\"><pre>LogisticRegression()</pre></div></div></div></div></div>"
      ],
      "text/plain": [
       "LogisticRegression()"
      ]
     },
     "execution_count": 26,
     "metadata": {},
     "output_type": "execute_result"
    }
   ],
   "source": [
    "#Now we will use X_train_features as it has numerical values#\n",
    "\n",
    "\n",
    "#Train the Machine Learning Model,logistic regression\n",
    "model=LogisticRegression()\n",
    "model.fit(X_train_features,Y_train)\n"
   ]
  },
  {
   "cell_type": "markdown",
   "id": "44961f84-4935-46a2-95f6-bd0b6c6db56d",
   "metadata": {},
   "source": [
    "# Model Evaluation #"
   ]
  },
  {
   "cell_type": "code",
   "execution_count": 29,
   "id": "227cda04-998a-4e80-bd26-8bd9c3bee384",
   "metadata": {},
   "outputs": [
    {
     "name": "stdout",
     "output_type": "stream",
     "text": [
      "accuracy on training data is  0.9963730569948187\n"
     ]
    }
   ],
   "source": [
    "prediction_on_training_data=model.predict(X_train_features)\n",
    "accuracy_on_training_data=accuracy_score(prediction_on_training_data,Y_train)\n",
    "\n",
    "print('accuracy on training data is ',accuracy_on_training_data)\n",
    "\n",
    "prediction_on_testing_data=model.predict(X_test_features)\n",
    "accuracy_on_testing_data=accuracy_score(prediction_on_testing_data,Y_test)"
   ]
  },
  {
   "cell_type": "code",
   "execution_count": 31,
   "id": "7766f576-71ff-44fa-bb21-1e3931a1dae7",
   "metadata": {},
   "outputs": [
    {
     "name": "stdout",
     "output_type": "stream",
     "text": [
      "accuracy on testing data is  0.9901554404145078\n"
     ]
    }
   ],
   "source": [
    "prediction_on_testing_data=model.predict(X_test_features)\n",
    "accuracy_on_testing_data=accuracy_score(prediction_on_testing_data,Y_test)\n",
    "print('accuracy on testing data is ',accuracy_on_testing_data)"
   ]
  },
  {
   "cell_type": "markdown",
   "id": "79776e77-f2d2-4a99-8f1c-01ce73dcc15f",
   "metadata": {},
   "source": [
    "# K fold Cross validation #"
   ]
  },
  {
   "cell_type": "code",
   "execution_count": 34,
   "id": "6e5e59e3-153c-474c-b0a6-24e8031229ed",
   "metadata": {},
   "outputs": [
    {
     "name": "stdout",
     "output_type": "stream",
     "text": [
      "Cross-validation scores for each fold:  [0.98834197 0.98963731 0.98834197 0.99093264 0.9857513  0.99352332\n",
      " 0.99222798 0.99222798 0.99222798 0.99352332]\n",
      "Mean cross-validation accuracy:  0.9906735751295337\n"
     ]
    }
   ],
   "source": [
    "# Doing 10 fold cross validation \n",
    "from sklearn.model_selection import KFold, StratifiedKFold, cross_val_score\n",
    "\n",
    "cv_scores = cross_val_score(model, X_train_features, Y_train, cv=10, scoring='accuracy')\n",
    "\n",
    "# Print the cross-validation scores and mean score\n",
    "\n",
    "\n",
    "print(\"Cross-validation scores for each fold: \", cv_scores)\n",
    "print(\"Mean cross-validation accuracy: \", np.mean(cv_scores))"
   ]
  },
  {
   "cell_type": "markdown",
   "id": "bf400d53-0e20-4df8-8781-9c7055a9750e",
   "metadata": {},
   "source": [
    "# Sensitivity,Specificity and Precision #"
   ]
  },
  {
   "cell_type": "code",
   "execution_count": 37,
   "id": "11e59c64-7e8d-4ad6-afe9-43e87e0c5c28",
   "metadata": {},
   "outputs": [
    {
     "name": "stdout",
     "output_type": "stream",
     "text": [
      "True Positives (TP): 969\n",
      "True Negatives (TN): 942\n",
      "False Negatives (FN): 8\n",
      "False Positives (FP): 11\n",
      "Specificity is  0.9884575026232949\n",
      "Sensitivity is  0.9918116683725691\n",
      "Precision is  0.9887755102040816\n"
     ]
    }
   ],
   "source": [
    "#generate confusion matrix#\n",
    "from sklearn.metrics import confusion_matrix\n",
    "\n",
    "cm=confusion_matrix(Y_test,prediction_on_testing_data)\n",
    "\n",
    "# Extract true positives and true negatives from confusion matrix\n",
    "tn, fp, fn, tp = cm.ravel()\n",
    "\n",
    "print(\"True Positives (TP):\", tp)\n",
    "print(\"True Negatives (TN):\", tn)\n",
    "print(\"False Negatives (FN):\",fn)\n",
    "print(\"False Positives (FP):\",fp)\n",
    "\n",
    "#calculate accuracy metric i.e sensitivity,specificity,recall and precision\n",
    "sensitivity = tp / (tp + fn) if (tp + fn) != 0 else 0\n",
    "specificity = tn / (tn + fp) if (tn + fp) != 0 else 0\n",
    "precision = tp / (tp + fp) if (tp + fp) != 0 else 0\n",
    "\n",
    "\n",
    "\n",
    "print(\"Specificity is \",specificity)\n",
    "print(\"Sensitivity is \",sensitivity)\n",
    "print(\"Precision is \",precision)\n"
   ]
  },
  {
   "cell_type": "markdown",
   "id": "432029b1-8bff-449d-8e6b-4a9a630afa2d",
   "metadata": {},
   "source": [
    "# AUC-ROC Curve #"
   ]
  },
  {
   "cell_type": "code",
   "execution_count": 40,
   "id": "82f2232a-0058-43d8-9466-160b5de8c3e7",
   "metadata": {},
   "outputs": [
    {
     "name": "stdout",
     "output_type": "stream",
     "text": [
      "AUC-score :  0.9977896659903919\n"
     ]
    },
    {
     "data": {
      "image/png": "[encoded data removed]",
      "text/plain": [
       "<Figure size 640x480 with 1 Axes>"
      ]
     },
     "metadata": {},
     "output_type": "display_data"
    }
   ],
   "source": [
    "#ROC-Curve\n",
    "from sklearn.metrics import roc_curve ,roc_auc_score\n",
    "#prediction probability for test set [:, 1]#\n",
    "#is to extract the predicted probabilities of the spam mail (case 1 corresponds to spam mail).\n",
    "\n",
    "Y_prob=model.predict_proba(X_test_features)[:,1]\n",
    "\n",
    "#Calculate the ROC curve\n",
    "fpr, tpr, thresholds =roc_curve(Y_test,Y_prob)\n",
    "\n",
    "#Calculate AUC score\n",
    "auc_score=roc_auc_score(Y_test,Y_prob)\n",
    "\n",
    "print(\"AUC-score : \",auc_score)\n",
    "\n",
    "#draw the curve\n",
    "\n",
    "# Plot the ROC curve\n",
    "plt.figure()\n",
    "plt.plot(fpr, tpr, color='green', label=f\"ROC Curve (AUC = {auc_score:.2f})\")\n",
    "plt.plot([0, 1], [0, 1], color='red', linestyle='--')  # Random classifier line\n",
    "plt.xlim([0.0, 1.0])\n",
    "plt.ylim([0.0, 1.05])\n",
    "plt.xlabel('False Positive Rate')\n",
    "plt.ylabel('True Positive Rate')\n",
    "plt.title('Receiver Operating Characteristic (ROC) Curve')\n",
    "plt.legend(loc=\"lower right\")\n",
    "plt.show()"
   ]
  },
  {
   "cell_type": "markdown",
   "id": "cd3f3cb8-8a4b-4f15-a6c4-10ef14353797",
   "metadata": {},
   "source": [
    "# Building The Predictive System #"
   ]
  },
  {
   "cell_type": "code",
   "execution_count": 43,
   "id": "67579828-084f-4ebb-b046-596e04bcf89a",
   "metadata": {},
   "outputs": [
    {
     "name": "stdin",
     "output_type": "stream",
     "text": [
      "Enter the mail to see if its spam or not :  Dear [User’s Name],  CONGRATULATIONS! You have been selected as the winner of a $1,000,000 CASH PRIZE! This prize was randomly awarded to you among millions of users worldwide.  To claim your prize, please respond with your full name, address, phone number, and bank account details.  Hurry! This offer is only valid for 24 hours.  Best regards, Prize Coordinator [Generic Company Name] Sweepstakes\n"
     ]
    },
    {
     "name": "stdout",
     "output_type": "stream",
     "text": [
      "['Dear [User’s Name],  CONGRATULATIONS! You have been selected as the winner of a $1,000,000 CASH PRIZE! This prize was randomly awarded to you among millions of users worldwide.  To claim your prize, please respond with your full name, address, phone number, and bank account details.  Hurry! This offer is only valid for 24 hours.  Best regards, Prize Coordinator [Generic Company Name] Sweepstakes']\n",
      "\n",
      "\n",
      "The mail provided is a Spam mail \n"
     ]
    }
   ],
   "source": [
    "#Building the Predictive System#\n",
    "\n",
    "imail=str(input('Enter the mail to see if its spam or not : ') )\n",
    "input_mail=[]\n",
    "input_mail.append(imail)\n",
    "print(input_mail)\n",
    "\n",
    "#feature extraction , text tonumerical values #\n",
    "input_data_features=feature_extraction.transform(input_mail)\n",
    "\n",
    "#making prediction using our model#\n",
    "prediction=model.predict(input_data_features)\n",
    "print('\\n')\n",
    "if(prediction==0):\n",
    "    print(\"The mail provided is a genuine mail \")\n",
    "elif(prediction==1):\n",
    "    print(\"The mail provided is a Spam mail \")"
   ]
  },
  {
   "cell_type": "code",
   "execution_count": null,
   "id": "cb130285-f9a4-4672-ae7e-fc3f87648ddf",
   "metadata": {},
   "outputs": [],
   "source": []
  }
 ],
 "metadata": {
  "kernelspec": {
   "display_name": "Python 3 (ipykernel)",
   "language": "python",
   "name": "python3"
  },
  "language_info": {
   "codemirror_mode": {
    "name": "ipython",
    "version": 3
   },
   "file_extension": ".py",
   "mimetype": "text/x-python",
   "name": "python",
   "nbconvert_exporter": "python",
   "pygments_lexer": "ipython3",
   "version": "3.8.20"
  }
 },
 "nbformat": 4,
 "nbformat_minor": 5
}
